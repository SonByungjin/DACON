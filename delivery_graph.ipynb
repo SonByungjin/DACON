{
 "cells": [
  {
   "cell_type": "code",
   "execution_count": 1,
   "metadata": {},
   "outputs": [],
   "source": [
    "import pandas as pd\n",
    "import matplotlib.pyplot as plt\n",
    "%matplotlib inline\n",
    "import seaborn as sns\n",
    "from matplotlib import font_manager, rc\n",
    "font_name = font_manager.FontProperties(fname=\"c:/Windows/Fonts/malgun.ttf\").get_name()\n",
    "rc('font', family=font_name, size = 20)"
   ]
  },
  {
   "cell_type": "code",
   "execution_count": 2,
   "metadata": {},
   "outputs": [],
   "source": [
    "dev = pd.read_csv('c:/data/dacon/delivery.csv')"
   ]
  },
  {
   "cell_type": "code",
   "execution_count": 3,
   "metadata": {},
   "outputs": [],
   "source": [
    "date_menu = dev[['PROCESS_DT','DLVR_STORE_INDUTY_NM']]"
   ]
  },
  {
   "cell_type": "code",
   "execution_count": 4,
   "metadata": {},
   "outputs": [
    {
     "name": "stderr",
     "output_type": "stream",
     "text": [
      "C:\\Users\\analysis\\Anaconda3\\lib\\site-packages\\ipykernel_launcher.py:1: SettingWithCopyWarning: \n",
      "A value is trying to be set on a copy of a slice from a DataFrame.\n",
      "Try using .loc[row_indexer,col_indexer] = value instead\n",
      "\n",
      "See the caveats in the documentation: http://pandas.pydata.org/pandas-docs/stable/user_guide/indexing.html#returning-a-view-versus-a-copy\n",
      "  \"\"\"Entry point for launching an IPython kernel.\n"
     ]
    }
   ],
   "source": [
    "date_menu['cnt'] = 1"
   ]
  },
  {
   "cell_type": "code",
   "execution_count": 5,
   "metadata": {
    "scrolled": true
   },
   "outputs": [],
   "source": [
    "# date_menu['PROCESS_DT']=date_menu['PROCESS_DT'].astype('datetime64[ns]')"
   ]
  },
  {
   "cell_type": "code",
   "execution_count": 6,
   "metadata": {},
   "outputs": [],
   "source": [
    "df1 = pd.DataFrame(date_menu[date_menu['DLVR_STORE_INDUTY_NM']=='치킨'].groupby('PROCESS_DT').cnt.sum()).reset_index()\n",
    "df2 = pd.DataFrame(date_menu[date_menu['DLVR_STORE_INDUTY_NM']=='한식'].groupby('PROCESS_DT').cnt.sum()).reset_index()\n",
    "df3 = pd.DataFrame(date_menu[date_menu['DLVR_STORE_INDUTY_NM']=='카페/디저트'].groupby('PROCESS_DT').cnt.sum()).reset_index()\n",
    "df4 = pd.DataFrame(date_menu[date_menu['DLVR_STORE_INDUTY_NM']=='족발/보쌈'].groupby('PROCESS_DT').cnt.sum()).reset_index()\n",
    "df5 = pd.DataFrame(date_menu[date_menu['DLVR_STORE_INDUTY_NM']=='패스트푸드'].groupby('PROCESS_DT').cnt.sum()).reset_index()\n",
    "df6 = pd.DataFrame(date_menu[date_menu['DLVR_STORE_INDUTY_NM']=='돈까스/일식'].groupby('PROCESS_DT').cnt.sum()).reset_index()\n",
    "df7 = pd.DataFrame(date_menu[date_menu['DLVR_STORE_INDUTY_NM']=='야식'].groupby('PROCESS_DT').cnt.sum()).reset_index()\n",
    "df8 = pd.DataFrame(date_menu[date_menu['DLVR_STORE_INDUTY_NM']=='찜탕'].groupby('PROCESS_DT').cnt.sum()).reset_index()\n",
    "df9 = pd.DataFrame(date_menu[date_menu['DLVR_STORE_INDUTY_NM']=='중식'].groupby('PROCESS_DT').cnt.sum()).reset_index()\n",
    "df10 = pd.DataFrame(date_menu[date_menu['DLVR_STORE_INDUTY_NM']=='아시안/양식'].groupby('PROCESS_DT').cnt.sum()).reset_index()\n",
    "df11 = pd.DataFrame(date_menu[date_menu['DLVR_STORE_INDUTY_NM']=='회'].groupby('PROCESS_DT').cnt.sum()).reset_index()\n",
    "df12 = pd.DataFrame(date_menu[date_menu['DLVR_STORE_INDUTY_NM']=='배달전문업체'].groupby('PROCESS_DT').cnt.sum()).reset_index()\n",
    "df13 = pd.DataFrame(date_menu[date_menu['DLVR_STORE_INDUTY_NM']=='도시락'].groupby('PROCESS_DT').cnt.sum()).reset_index()\n",
    "df14 = pd.DataFrame(date_menu[date_menu['DLVR_STORE_INDUTY_NM']=='심부름'].groupby('PROCESS_DT').cnt.sum()).reset_index()"
   ]
  },
  {
   "cell_type": "code",
   "execution_count": 7,
   "metadata": {},
   "outputs": [],
   "source": [
    "df1['category'] = '치킨'\n",
    "df2['category'] = '한식'\n",
    "df3['category'] = '카페/디저트'\n",
    "df4['category'] = '족발/보쌈'\n",
    "df5['category'] = '패스트푸드'\n",
    "df6['category'] = '돈까스/일식'\n",
    "df7['category'] = '야식'\n",
    "df8['category'] = '찜탕'\n",
    "df9['category'] = '중식'\n",
    "df10['category'] = '아시안/양식'\n",
    "df11['category'] = '회'\n",
    "df12['category'] = '배달전문업체'\n",
    "df13['category'] = '도시락'\n",
    "df14['category'] = '심부름'"
   ]
  },
  {
   "cell_type": "code",
   "execution_count": 8,
   "metadata": {},
   "outputs": [],
   "source": [
    "df_merge1 = pd.merge(df1,df2,how='outer')\n",
    "df_merge2 = pd.merge(df_merge1,df3,how='outer')\n",
    "df_merge3 = pd.merge(df_merge2,df4,how='outer')\n",
    "df_merge4 = pd.merge(df_merge3,df5,how='outer')\n",
    "df_merge5 = pd.merge(df_merge4,df6,how='outer')\n",
    "df_merge6 = pd.merge(df_merge5,df7,how='outer')\n",
    "df_merge7 = pd.merge(df_merge6,df8,how='outer')\n",
    "df_merge8 = pd.merge(df_merge7,df9,how='outer')\n",
    "df_merge9 = pd.merge(df_merge8,df10,how='outer')\n",
    "df_merge10 = pd.merge(df_merge9,df11,how='outer')\n",
    "df_merge11 = pd.merge(df_merge10,df12,how='outer')\n",
    "df_merge12 = pd.merge(df_merge11,df13,how='outer')\n",
    "df_merge13 = pd.merge(df_merge12,df14,how='outer')"
   ]
  },
  {
   "cell_type": "code",
   "execution_count": 52,
   "metadata": {},
   "outputs": [],
   "source": [
    "df_merge13['PROCESS_DT'] = pd.to_datetime(df_merge13['PROCESS_DT']).apply(lambda x:x.date())"
   ]
  },
  {
   "cell_type": "code",
   "execution_count": null,
   "metadata": {},
   "outputs": [],
   "source": [
    "plt.figure(figsize=(30,10))\n",
    "rc('font', family=font_name, size = 10)\n",
    "sns.barplot(x='PROCESS_DT', y='cnt',hue='category',data=df_merge13, dodge=False)\n",
    "plt.xticks( labels=[ date[2:] if idx%10==0 else '' for idx,\n",
    "             date in enumerate(df_merge13.PROCESS_DT.astype(str)) \n",
    "                    ])\n",
    "plt.xticks(rotation = 90)\n",
    "plt.show()"
   ]
  },
  {
   "cell_type": "code",
   "execution_count": null,
   "metadata": {},
   "outputs": [],
   "source": []
  },
  {
   "cell_type": "code",
   "execution_count": null,
   "metadata": {},
   "outputs": [],
   "source": []
  },
  {
   "cell_type": "code",
   "execution_count": null,
   "metadata": {},
   "outputs": [],
   "source": []
  },
  {
   "cell_type": "code",
   "execution_count": null,
   "metadata": {},
   "outputs": [],
   "source": []
  },
  {
   "cell_type": "code",
   "execution_count": null,
   "metadata": {},
   "outputs": [],
   "source": []
  },
  {
   "cell_type": "code",
   "execution_count": null,
   "metadata": {},
   "outputs": [],
   "source": []
  },
  {
   "cell_type": "code",
   "execution_count": null,
   "metadata": {},
   "outputs": [],
   "source": []
  },
  {
   "cell_type": "code",
   "execution_count": null,
   "metadata": {},
   "outputs": [],
   "source": []
  },
  {
   "cell_type": "code",
   "execution_count": null,
   "metadata": {},
   "outputs": [],
   "source": []
  },
  {
   "cell_type": "code",
   "execution_count": null,
   "metadata": {},
   "outputs": [],
   "source": []
  },
  {
   "cell_type": "code",
   "execution_count": null,
   "metadata": {},
   "outputs": [],
   "source": []
  },
  {
   "cell_type": "code",
   "execution_count": null,
   "metadata": {},
   "outputs": [],
   "source": []
  },
  {
   "cell_type": "code",
   "execution_count": null,
   "metadata": {},
   "outputs": [],
   "source": []
  },
  {
   "cell_type": "code",
   "execution_count": null,
   "metadata": {},
   "outputs": [],
   "source": []
  },
  {
   "cell_type": "code",
   "execution_count": null,
   "metadata": {},
   "outputs": [],
   "source": []
  },
  {
   "cell_type": "code",
   "execution_count": null,
   "metadata": {},
   "outputs": [],
   "source": []
  },
  {
   "cell_type": "code",
   "execution_count": null,
   "metadata": {},
   "outputs": [],
   "source": []
  },
  {
   "cell_type": "code",
   "execution_count": null,
   "metadata": {},
   "outputs": [],
   "source": []
  },
  {
   "cell_type": "code",
   "execution_count": null,
   "metadata": {},
   "outputs": [],
   "source": []
  },
  {
   "cell_type": "code",
   "execution_count": null,
   "metadata": {},
   "outputs": [],
   "source": []
  },
  {
   "cell_type": "code",
   "execution_count": null,
   "metadata": {},
   "outputs": [],
   "source": []
  },
  {
   "cell_type": "code",
   "execution_count": null,
   "metadata": {},
   "outputs": [],
   "source": []
  },
  {
   "cell_type": "code",
   "execution_count": null,
   "metadata": {},
   "outputs": [],
   "source": []
  },
  {
   "cell_type": "code",
   "execution_count": null,
   "metadata": {},
   "outputs": [],
   "source": []
  },
  {
   "cell_type": "code",
   "execution_count": null,
   "metadata": {},
   "outputs": [],
   "source": []
  },
  {
   "cell_type": "code",
   "execution_count": null,
   "metadata": {},
   "outputs": [],
   "source": []
  },
  {
   "cell_type": "code",
   "execution_count": null,
   "metadata": {},
   "outputs": [],
   "source": []
  },
  {
   "cell_type": "code",
   "execution_count": null,
   "metadata": {},
   "outputs": [],
   "source": []
  },
  {
   "cell_type": "code",
   "execution_count": null,
   "metadata": {},
   "outputs": [],
   "source": []
  },
  {
   "cell_type": "code",
   "execution_count": null,
   "metadata": {},
   "outputs": [],
   "source": []
  }
 ],
 "metadata": {
  "kernelspec": {
   "display_name": "Python 3",
   "language": "python",
   "name": "python3"
  },
  "language_info": {
   "codemirror_mode": {
    "name": "ipython",
    "version": 3
   },
   "file_extension": ".py",
   "mimetype": "text/x-python",
   "name": "python",
   "nbconvert_exporter": "python",
   "pygments_lexer": "ipython3",
   "version": "3.7.4"
  }
 },
 "nbformat": 4,
 "nbformat_minor": 2
}
